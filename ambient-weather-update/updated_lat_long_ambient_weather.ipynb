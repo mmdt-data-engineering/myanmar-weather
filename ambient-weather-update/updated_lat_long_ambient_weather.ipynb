{
  "nbformat": 4,
  "nbformat_minor": 0,
  "metadata": {
    "colab": {
      "provenance": []
    },
    "kernelspec": {
      "name": "python3",
      "display_name": "Python 3"
    },
    "language_info": {
      "name": "python"
    }
  },
  "cells": [
    {
      "cell_type": "code",
      "execution_count": 18,
      "metadata": {
        "id": "-bN4eK6eyGxe"
      },
      "outputs": [],
      "source": [
        "import requests\n",
        "import pandas as pd\n",
        "import numpy as np\n",
        "import logging\n",
        "import os\n",
        "from datetime import datetime"
      ]
    },
    {
      "cell_type": "code",
      "source": [
        "def get_ambient_weather_data(lat, lon) -> pd.DataFrame:\n",
        "\n",
        "    \"\"\"\n",
        "    Fetch weather forecast data from Ambient Weather API.\n",
        "\n",
        "    Parameters:\n",
        "        lat (float): Latitude\n",
        "        lon (float): Longitude\n",
        "\n",
        "    Returns:\n",
        "        pd.DataFrame: Weather data in DataFrame format\n",
        "\n",
        "    \"\"\"\n",
        "\n",
        "    url = f\"https://lightning.ambientweather.net/forecast/{lat}/{lon}\"\n",
        "    headers = {\n",
        "        \"User-Agent\": \"Chrome/135.0.0.0 Safari/537.36\",\n",
        "        \"Referer\": \"https://ambientweather.net\",\n",
        "        \"Origin\": \"https://ambientweather.net\"\n",
        "    }\n",
        "\n",
        "    try:\n",
        "        response = requests.get(url, headers=headers)\n",
        "        response.raise_for_status()\n",
        "        data = response.json()\n",
        "    except requests.RequestException as e:\n",
        "        logging.error(f\"Error fetching data from {url}: {e}\")\n",
        "\n",
        "\n",
        "    weather_list = []\n",
        "    for dict in data['daily']['data']:\n",
        "        weather_list.append({\n",
        "            'date': datetime.fromtimestamp(dict['time']).strftime(\"%Y-%m-%d\"),\n",
        "            'latitude' : data['lat'],\n",
        "            'longitude' : data['lon'],\n",
        "            'township' : data['location']['LocalizedName'],\n",
        "            'timezone' : data['tz'],\n",
        "            'summary' : dict['summary'],\n",
        "            'precipProbability' : dict['precipProbability'],\n",
        "            'precipIntensity' :dict['precipIntensity'],\n",
        "            'precipAccumulation' : dict['precipAccumulation'],\n",
        "            'windSpeed' : dict['windSpeed'],\n",
        "            'icon' : dict['icon'],\n",
        "            'windBearing' : dict['windBearing'],\n",
        "            'windGust' : dict['windGust'],\n",
        "            'temperatureMin' : dict['temperatureMin'],\n",
        "            'temperatureMax' : dict['temperatureMax']\n",
        "        })\n",
        "\n",
        "    weather_data_df = pd.DataFrame(weather_list)\n",
        "    return weather_data_df"
      ],
      "metadata": {
        "id": "f_Wd_NXTFlSN"
      },
      "execution_count": 19,
      "outputs": []
    },
    {
      "cell_type": "code",
      "source": [
        "# GitHub raw URL of the CSV file (replace with your actual URL)\n",
        "lat_lon_url = 'https://raw.githubusercontent.com/mmdt-data-engineering/myanmar-weather/refs/heads/main/lat_lon_data.csv'\n",
        "\n",
        "# Load lat/lon data from GitHub\n",
        "lat_lon_df = pd.read_csv(lat_lon_url)\n",
        "\n",
        "def fetch_weather_data_for_all_lat_lon(lat_lon_df: pd.DataFrame) -> pd.DataFrame:\n",
        "    all_weather_data = []\n",
        "\n",
        "    # Iterate through each lat/lon pair\n",
        "    for index, row in lat_lon_df.iterrows():\n",
        "        lat = row['latitude']\n",
        "        lon = row['longitude']\n",
        "\n",
        "        # Fetch weather data for each lat/lon pair\n",
        "        weather_data = get_ambient_weather_data(lat, lon)\n",
        "\n",
        "        # Add lat/lon to the weather data for tracking\n",
        "        weather_data['latitude'] = lat\n",
        "        weather_data['longitude'] = lon\n",
        "\n",
        "        # Append the data to the list\n",
        "        all_weather_data.append(weather_data)\n",
        "\n",
        "    # Combine all data into a single DataFrame\n",
        "    final_weather_data = pd.concat(all_weather_data, ignore_index=True)\n",
        "    return final_weather_data\n",
        "\n",
        "# Call the function to fetch weather data for all lat/lon pairs\n",
        "combined_weather_data = fetch_weather_data_for_all_lat_lon(lat_lon_df)\n",
        "\n",
        "# Display the combined weather data\n",
        "print(combined_weather_data.head())"
      ],
      "metadata": {
        "colab": {
          "base_uri": "https://localhost:8080/"
        },
        "id": "3conSFgqFw7R",
        "outputId": "2ed84ca6-fc22-4733-d714-066732b25fa1"
      },
      "execution_count": 28,
      "outputs": [
        {
          "output_type": "stream",
          "name": "stdout",
          "text": [
            "         date  latitude  longitude township      timezone  \\\n",
            "0  2025-05-09     20.15      94.95   Magway  Asia/Rangoon   \n",
            "1  2025-05-10     20.15      94.95   Magway  Asia/Rangoon   \n",
            "2  2025-05-11     20.15      94.95   Magway  Asia/Rangoon   \n",
            "3  2025-05-12     20.15      94.95   Magway  Asia/Rangoon   \n",
            "4  2025-05-13     20.15      94.95   Magway  Asia/Rangoon   \n",
            "\n",
            "                        summary  precipProbability  precipIntensity  \\\n",
            "0   Increasing clouds; very hot               0.04             0.00   \n",
            "1     Partly sunny and very hot               0.06             0.00   \n",
            "2  A t-storm around in the p.m.               0.40             0.04   \n",
            "3    An afternoon t-storm; warm               0.60             0.20   \n",
            "4  A t-storm around in the p.m.               0.40             0.04   \n",
            "\n",
            "   precipAccumulation  windSpeed               icon  windBearing  windGust  \\\n",
            "0                0.00        4.6                sun          120      10.4   \n",
            "1                0.00        8.1                sun          216      20.7   \n",
            "2                0.04        6.9  partly-cloudy-day          146      16.1   \n",
            "3                0.20        9.2           part-sun          186      24.2   \n",
            "4                0.04        5.8           part-sun          159      18.4   \n",
            "\n",
            "   temperatureMin  temperatureMax  \n",
            "0              83             107  \n",
            "1              81             106  \n",
            "2              79             104  \n",
            "3              78             100  \n",
            "4              79             101  \n"
          ]
        }
      ]
    },
    {
      "cell_type": "code",
      "source": [
        "from google.colab import files\n",
        "\n",
        "# Assuming 'combined_weather_data' is the DataFrame you want to save\n",
        "combined_weather_data.to_csv('combined_weather_data.csv', index=False)\n",
        "\n",
        "# Now download the CSV to your local machine\n",
        "files.download('combined_weather_data.csv')"
      ],
      "metadata": {
        "colab": {
          "base_uri": "https://localhost:8080/",
          "height": 17
        },
        "id": "F9mTHs11IT7V",
        "outputId": "220b2061-5941-4079-9c8e-1c6831ac0699"
      },
      "execution_count": 29,
      "outputs": [
        {
          "output_type": "display_data",
          "data": {
            "text/plain": [
              "<IPython.core.display.Javascript object>"
            ],
            "application/javascript": [
              "\n",
              "    async function download(id, filename, size) {\n",
              "      if (!google.colab.kernel.accessAllowed) {\n",
              "        return;\n",
              "      }\n",
              "      const div = document.createElement('div');\n",
              "      const label = document.createElement('label');\n",
              "      label.textContent = `Downloading \"${filename}\": `;\n",
              "      div.appendChild(label);\n",
              "      const progress = document.createElement('progress');\n",
              "      progress.max = size;\n",
              "      div.appendChild(progress);\n",
              "      document.body.appendChild(div);\n",
              "\n",
              "      const buffers = [];\n",
              "      let downloaded = 0;\n",
              "\n",
              "      const channel = await google.colab.kernel.comms.open(id);\n",
              "      // Send a message to notify the kernel that we're ready.\n",
              "      channel.send({})\n",
              "\n",
              "      for await (const message of channel.messages) {\n",
              "        // Send a message to notify the kernel that we're ready.\n",
              "        channel.send({})\n",
              "        if (message.buffers) {\n",
              "          for (const buffer of message.buffers) {\n",
              "            buffers.push(buffer);\n",
              "            downloaded += buffer.byteLength;\n",
              "            progress.value = downloaded;\n",
              "          }\n",
              "        }\n",
              "      }\n",
              "      const blob = new Blob(buffers, {type: 'application/binary'});\n",
              "      const a = document.createElement('a');\n",
              "      a.href = window.URL.createObjectURL(blob);\n",
              "      a.download = filename;\n",
              "      div.appendChild(a);\n",
              "      a.click();\n",
              "      div.remove();\n",
              "    }\n",
              "  "
            ]
          },
          "metadata": {}
        },
        {
          "output_type": "display_data",
          "data": {
            "text/plain": [
              "<IPython.core.display.Javascript object>"
            ],
            "application/javascript": [
              "download(\"download_2d4c9db5-6317-44f2-8543-cd56b7de7d3a\", \"combined_weather_data.csv\", 1890349)"
            ]
          },
          "metadata": {}
        }
      ]
    }
  ]
}