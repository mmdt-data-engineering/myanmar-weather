{
 "cells": [
  {
   "cell_type": "code",
   "execution_count": 2,
   "metadata": {},
   "outputs": [],
   "source": [
    "import requests\n",
    "import pandas as pd\n",
    "import numpy as np\n",
    "import logging\n",
    "import os\n",
    "from sqlalchemy import create_engine\n",
    "from dotenv import load_dotenv\n",
    "from pathlib import Path"
   ]
  },
  {
   "cell_type": "code",
   "execution_count": 3,
   "metadata": {},
   "outputs": [
    {
     "data": {
      "text/plain": [
       "False"
      ]
     },
     "execution_count": 3,
     "metadata": {},
     "output_type": "execute_result"
    }
   ],
   "source": [
    "dotenv_path = Path(\"../.env\")\n",
    "load_dotenv(dotenv_path=dotenv_path)"
   ]
  },
  {
   "cell_type": "code",
   "execution_count": 4,
   "metadata": {},
   "outputs": [],
   "source": [
    "def get_meteoblue_weather_data(lat, lon, forecast_days) -> pd.DataFrame:\n",
    "    \"\"\"\n",
    "    Fetch weather forecast data from meteoblue Weather API.\n",
    "    \n",
    "    Parameters:\n",
    "        lat (float): Latitude\n",
    "        lon (float): Longitude\n",
    "        forecast_days(int) : How many days to forecast\n",
    "\n",
    "    Returns:\n",
    "        pd.DataFrame: Weather data in DataFrame format\n",
    "\n",
    "    \"\"\"\n",
    "    API_KEY = os.getenv(\"meteoblue_api_key\")\n",
    "    url = f\"https://my.meteoblue.com/packages/basic-day?apikey={API_KEY}&lat={lat}&lon={lon}&asl=30&format=json&forecast_days={forecast_days}\"\n",
    "\n",
    "    try:\n",
    "        response = requests.get(url)\n",
    "        response.raise_for_status()\n",
    "        data = response.json()\n",
    "    except requests.RequestException as e:\n",
    "        logging.error(f\"Error fetching data from {url}: {e}\")\n",
    "\n",
    "    meteo_weather_data =[]\n",
    "\n",
    "    for k, v in data.items():\n",
    "        # print(k, '\\n', v)\n",
    "        for col, val in data['data_day'].items():\n",
    "            # print(col, '\\n', val)\n",
    "            for i in range(len(val)):\n",
    "                # print(i)\n",
    "                meteo_weather_data.append({\n",
    "                    'date' : data['data_day']['time'][i],\n",
    "                    'latitude' : data['metadata']['latitude'],\n",
    "                    'longitude' : data['metadata']['latitude'],\n",
    "                    'temperature_instant_°C' : data['data_day']['temperature_instant'][i],\n",
    "                    'precipitation_mm' : data['data_day']['precipitation'][i],\n",
    "                    'predictability_percent' : data['data_day']['predictability'][i],\n",
    "                    'temperature_min_°C' : data['data_day']['temperature_min'][i],\n",
    "                    'temperature_max_°C' : data['data_day']['temperature_max'][i],\n",
    "                    'temperature_mean_°C' : data['data_day']['temperature_mean'][i],\n",
    "                    'sealevelpressure_min_hPa' : data['data_day']['sealevelpressure_min'][i],\n",
    "                    'sealevelpressure_max_hPa' : data['data_day']['sealevelpressure_max'][i],\n",
    "                    'sealevelpressure_mean_hPa' : data['data_day']['sealevelpressure_mean'][i],\n",
    "                    'windspeed_min_ms-1' : data['data_day']['windspeed_min'][i],\n",
    "                    'windspeed_max_ms-1' : data['data_day']['windspeed_max'][i],\n",
    "                    'windspeed_mean_ms-1' : data['data_day']['windspeed_mean'][i],\n",
    "                    'humiditygreater90_hours_percent' : data['data_day']['humiditygreater90_hours'][i],\n",
    "                    'convective_precipitation_percent' : data['data_day']['convective_precipitation'][i],\n",
    "                    'relativehumidity_min_percent' : data['data_day']['relativehumidity_min'][i],\n",
    "                    'relativehumidity_max_percent' : data['data_day']['relativehumidity_max'][i],\n",
    "                    'relativehumidity_mean_percent' : data['data_day']['relativehumidity_mean'][i],\n",
    "                    'winddirection_degree' : data['data_day']['winddirection'][i],\n",
    "                    'precipitation_probability_percent' : data['data_day']['precipitation_probability'][i],\n",
    "                    'uvindex' : data['data_day']['uvindex'][i],\n",
    "                    'rainspot' : data['data_day']['rainspot'][i],\n",
    "                    'predictability_class' : data['data_day']['predictability_class'][i],\n",
    "                })\n",
    "\n",
    "    meteo_weather_dataFrame = pd.DataFrame(meteo_weather_data)\n",
    "    return meteo_weather_dataFrame\n",
    "\n",
    "    "
   ]
  },
  {
   "cell_type": "code",
   "execution_count": 6,
   "metadata": {},
   "outputs": [
    {
     "name": "stderr",
     "output_type": "stream",
     "text": [
      "ERROR:root:Error fetching data from https://my.meteoblue.com/packages/basic-day?apikey=None&lat=16.858833907635155&lon=96.13701804078366&asl=30&format=json&forecast_days=3: 403 Client Error: Forbidden for url: https://my.meteoblue.com/packages/basic-day?apikey=None&lat=16.858833907635155&lon=96.13701804078366&asl=30&format=json&forecast_days=3\n"
     ]
    },
    {
     "ename": "UnboundLocalError",
     "evalue": "cannot access local variable 'data' where it is not associated with a value",
     "output_type": "error",
     "traceback": [
      "\u001b[31m---------------------------------------------------------------------------\u001b[39m",
      "\u001b[31mUnboundLocalError\u001b[39m                         Traceback (most recent call last)",
      "\u001b[36mCell\u001b[39m\u001b[36m \u001b[39m\u001b[32mIn[6]\u001b[39m\u001b[32m, line 1\u001b[39m\n\u001b[32m----> \u001b[39m\u001b[32m1\u001b[39m meteo_weather_data = \u001b[43mget_meteoblue_weather_data\u001b[49m\u001b[43m(\u001b[49m\u001b[32;43m16.858833907635155\u001b[39;49m\u001b[43m,\u001b[49m\u001b[43m \u001b[49m\u001b[32;43m96.13701804078366\u001b[39;49m\u001b[43m,\u001b[49m\u001b[43m \u001b[49m\u001b[32;43m3\u001b[39;49m\u001b[43m)\u001b[49m\n\u001b[32m      2\u001b[39m meteo_weather_data.head()\n",
      "\u001b[36mCell\u001b[39m\u001b[36m \u001b[39m\u001b[32mIn[4]\u001b[39m\u001b[32m, line 26\u001b[39m, in \u001b[36mget_meteoblue_weather_data\u001b[39m\u001b[34m(lat, lon, forecast_days)\u001b[39m\n\u001b[32m     22\u001b[39m     logging.error(\u001b[33mf\u001b[39m\u001b[33m\"\u001b[39m\u001b[33mError fetching data from \u001b[39m\u001b[38;5;132;01m{\u001b[39;00murl\u001b[38;5;132;01m}\u001b[39;00m\u001b[33m: \u001b[39m\u001b[38;5;132;01m{\u001b[39;00me\u001b[38;5;132;01m}\u001b[39;00m\u001b[33m\"\u001b[39m)\n\u001b[32m     24\u001b[39m meteo_weather_data =[]\n\u001b[32m---> \u001b[39m\u001b[32m26\u001b[39m \u001b[38;5;28;01mfor\u001b[39;00m k, v \u001b[38;5;129;01min\u001b[39;00m \u001b[43mdata\u001b[49m.items():\n\u001b[32m     27\u001b[39m     \u001b[38;5;66;03m# print(k, '\\n', v)\u001b[39;00m\n\u001b[32m     28\u001b[39m     \u001b[38;5;28;01mfor\u001b[39;00m col, val \u001b[38;5;129;01min\u001b[39;00m data[\u001b[33m'\u001b[39m\u001b[33mdata_day\u001b[39m\u001b[33m'\u001b[39m].items():\n\u001b[32m     29\u001b[39m         \u001b[38;5;66;03m# print(col, '\\n', val)\u001b[39;00m\n\u001b[32m     30\u001b[39m         \u001b[38;5;28;01mfor\u001b[39;00m i \u001b[38;5;129;01min\u001b[39;00m \u001b[38;5;28mrange\u001b[39m(\u001b[38;5;28mlen\u001b[39m(val)):\n\u001b[32m     31\u001b[39m             \u001b[38;5;66;03m# print(i)\u001b[39;00m\n",
      "\u001b[31mUnboundLocalError\u001b[39m: cannot access local variable 'data' where it is not associated with a value"
     ]
    }
   ],
   "source": [
    "meteo_weather_data = get_meteoblue_weather_data(16.858833907635155, 96.13701804078366, 3)\n",
    "meteo_weather_data.head()"
   ]
  },
  {
   "cell_type": "code",
   "execution_count": null,
   "metadata": {},
   "outputs": [],
   "source": []
  }
 ],
 "metadata": {
  "kernelspec": {
   "display_name": ".venv",
   "language": "python",
   "name": "python3"
  },
  "language_info": {
   "codemirror_mode": {
    "name": "ipython",
    "version": 3
   },
   "file_extension": ".py",
   "mimetype": "text/x-python",
   "name": "python",
   "nbconvert_exporter": "python",
   "pygments_lexer": "ipython3",
   "version": "3.12.8"
  }
 },
 "nbformat": 4,
 "nbformat_minor": 2
}
